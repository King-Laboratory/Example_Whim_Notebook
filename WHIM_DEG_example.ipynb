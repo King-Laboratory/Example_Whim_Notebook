{
 "cells": [
  {
   "cell_type": "markdown",
   "metadata": {},
   "source": [
    "# RNA-Seq Analysis Training Demo"
   ]
  },
  {
   "cell_type": "code",
   "execution_count": 1,
   "metadata": {},
   "outputs": [],
   "source": [
    "system(\"sudo chmod -R a+rwx /usr/lib/R/library\")"
   ]
  },
  {
   "cell_type": "markdown",
   "metadata": {},
   "source": [
    "### STEP 1: Library Installation\n",
    "\n",
    "First install the R packages that will be used. <strong>This installation may take around 15 minutes.</strong>"
   ]
  },
  {
   "cell_type": "code",
   "execution_count": 2,
   "metadata": {},
   "outputs": [
    {
     "name": "stderr",
     "output_type": "stream",
     "text": [
      "Installing package into ‘/home/jupyter/.R/library’\n",
      "(as ‘lib’ is unspecified)\n",
      "\n",
      "Loading required package: ComplexHeatmap\n",
      "\n",
      "Loading required package: grid\n",
      "\n",
      "========================================\n",
      "ComplexHeatmap version 2.14.0\n",
      "Bioconductor page: http://bioconductor.org/packages/ComplexHeatmap/\n",
      "Github page: https://github.com/jokergoo/ComplexHeatmap\n",
      "Documentation: http://jokergoo.github.io/ComplexHeatmap-reference\n",
      "\n",
      "If you use it in published research, please cite either one:\n",
      "- Gu, Z. Complex Heatmap Visualization. iMeta 2022.\n",
      "- Gu, Z. Complex heatmaps reveal patterns and correlations in multidimensional \n",
      "    genomic data. Bioinformatics 2016.\n",
      "\n",
      "\n",
      "The new InteractiveComplexHeatmap package can directly export static \n",
      "complex heatmaps into an interactive Shiny app with zero effort. Have a try!\n",
      "\n",
      "This message can be suppressed by:\n",
      "  suppressPackageStartupMessages(library(ComplexHeatmap))\n",
      "========================================\n",
      "\n",
      "\n",
      "Loading required package: DESeq2\n",
      "\n",
      "Loading required package: S4Vectors\n",
      "\n",
      "Loading required package: stats4\n",
      "\n",
      "Loading required package: BiocGenerics\n",
      "\n",
      "\n",
      "Attaching package: ‘BiocGenerics’\n",
      "\n",
      "\n",
      "The following objects are masked from ‘package:stats’:\n",
      "\n",
      "    IQR, mad, sd, var, xtabs\n",
      "\n",
      "\n",
      "The following objects are masked from ‘package:base’:\n",
      "\n",
      "    anyDuplicated, aperm, append, as.data.frame, basename, cbind,\n",
      "    colnames, dirname, do.call, duplicated, eval, evalq, Filter, Find,\n",
      "    get, grep, grepl, intersect, is.unsorted, lapply, Map, mapply,\n",
      "    match, mget, order, paste, pmax, pmax.int, pmin, pmin.int,\n",
      "    Position, rank, rbind, Reduce, rownames, sapply, setdiff, sort,\n",
      "    table, tapply, union, unique, unsplit, which.max, which.min\n",
      "\n",
      "\n",
      "\n",
      "Attaching package: ‘S4Vectors’\n",
      "\n",
      "\n",
      "The following objects are masked from ‘package:base’:\n",
      "\n",
      "    expand.grid, I, unname\n",
      "\n",
      "\n",
      "Loading required package: IRanges\n",
      "\n",
      "Loading required package: GenomicRanges\n",
      "\n",
      "Loading required package: GenomeInfoDb\n",
      "\n",
      "Loading required package: SummarizedExperiment\n",
      "\n",
      "Loading required package: MatrixGenerics\n",
      "\n",
      "Loading required package: matrixStats\n",
      "\n",
      "\n",
      "Attaching package: ‘MatrixGenerics’\n",
      "\n",
      "\n",
      "The following objects are masked from ‘package:matrixStats’:\n",
      "\n",
      "    colAlls, colAnyNAs, colAnys, colAvgsPerRowSet, colCollapse,\n",
      "    colCounts, colCummaxs, colCummins, colCumprods, colCumsums,\n",
      "    colDiffs, colIQRDiffs, colIQRs, colLogSumExps, colMadDiffs,\n",
      "    colMads, colMaxs, colMeans2, colMedians, colMins, colOrderStats,\n",
      "    colProds, colQuantiles, colRanges, colRanks, colSdDiffs, colSds,\n",
      "    colSums2, colTabulates, colVarDiffs, colVars, colWeightedMads,\n",
      "    colWeightedMeans, colWeightedMedians, colWeightedSds,\n",
      "    colWeightedVars, rowAlls, rowAnyNAs, rowAnys, rowAvgsPerColSet,\n",
      "    rowCollapse, rowCounts, rowCummaxs, rowCummins, rowCumprods,\n",
      "    rowCumsums, rowDiffs, rowIQRDiffs, rowIQRs, rowLogSumExps,\n",
      "    rowMadDiffs, rowMads, rowMaxs, rowMeans2, rowMedians, rowMins,\n",
      "    rowOrderStats, rowProds, rowQuantiles, rowRanges, rowRanks,\n",
      "    rowSdDiffs, rowSds, rowSums2, rowTabulates, rowVarDiffs, rowVars,\n",
      "    rowWeightedMads, rowWeightedMeans, rowWeightedMedians,\n",
      "    rowWeightedSds, rowWeightedVars\n",
      "\n",
      "\n",
      "Loading required package: Biobase\n",
      "\n",
      "Welcome to Bioconductor\n",
      "\n",
      "    Vignettes contain introductory material; view with\n",
      "    'browseVignettes()'. To cite Bioconductor, see\n",
      "    'citation(\"Biobase\")', and for packages 'citation(\"pkgname\")'.\n",
      "\n",
      "\n",
      "\n",
      "Attaching package: ‘Biobase’\n",
      "\n",
      "\n",
      "The following object is masked from ‘package:MatrixGenerics’:\n",
      "\n",
      "    rowMedians\n",
      "\n",
      "\n",
      "The following objects are masked from ‘package:matrixStats’:\n",
      "\n",
      "    anyMissing, rowMedians\n",
      "\n",
      "\n",
      "Loading required package: EnhancedVolcano\n",
      "\n",
      "Loading required package: ggplot2\n",
      "\n",
      "Loading required package: ggrepel\n",
      "\n",
      "Loading required package: dplyr\n",
      "\n",
      "\n",
      "Attaching package: ‘dplyr’\n",
      "\n",
      "\n",
      "The following object is masked from ‘package:Biobase’:\n",
      "\n",
      "    combine\n",
      "\n",
      "\n",
      "The following object is masked from ‘package:matrixStats’:\n",
      "\n",
      "    count\n",
      "\n",
      "\n",
      "The following objects are masked from ‘package:GenomicRanges’:\n",
      "\n",
      "    intersect, setdiff, union\n",
      "\n",
      "\n",
      "The following object is masked from ‘package:GenomeInfoDb’:\n",
      "\n",
      "    intersect\n",
      "\n",
      "\n",
      "The following objects are masked from ‘package:IRanges’:\n",
      "\n",
      "    collapse, desc, intersect, setdiff, slice, union\n",
      "\n",
      "\n",
      "The following objects are masked from ‘package:S4Vectors’:\n",
      "\n",
      "    first, intersect, rename, setdiff, setequal, union\n",
      "\n",
      "\n",
      "The following objects are masked from ‘package:BiocGenerics’:\n",
      "\n",
      "    combine, intersect, setdiff, union\n",
      "\n",
      "\n",
      "The following objects are masked from ‘package:stats’:\n",
      "\n",
      "    filter, lag\n",
      "\n",
      "\n",
      "The following objects are masked from ‘package:base’:\n",
      "\n",
      "    intersect, setdiff, setequal, union\n",
      "\n",
      "\n",
      "Loading required package: pheatmap\n",
      "\n",
      "\n",
      "Attaching package: ‘pheatmap’\n",
      "\n",
      "\n",
      "The following object is masked from ‘package:ComplexHeatmap’:\n",
      "\n",
      "    pheatmap\n",
      "\n",
      "\n",
      "Loading required package: ggfortify\n",
      "\n"
     ]
    }
   ],
   "source": [
    "###install the libraries first, if required\n",
    "install.packages(\"BiocManager\")\n",
    "\n",
    "if (!require(\"ComplexHeatmap\"))\n",
    "    BiocManager::install(\"ComplexHeatmap\")\n",
    "\n",
    "if (!require(\"DESeq2\"))\n",
    "    BiocManager::install(\"DESeq2\")\n",
    "\n",
    "if (!require(\"EnhancedVolcano\"))\n",
    "    BiocManager::install('EnhancedVolcano')\n",
    "\n",
    "if (!require(\"dplyr\"))\n",
    "    install.packages(\"dplyr\")\n",
    "\n",
    "if (!require(\"pheatmap\"))\n",
    "    install.packages(\"pheatmap\")\n",
    "\n",
    "if (!require(\"ggrepel\"))\n",
    "    install.packages(\"ggrepel\")\n",
    "\n",
    "if (!require(\"ggfortify\"))\n",
    "    install.packages(\"ggfortify\")\n",
    "\n",
    "\n",
    "###load the libraries\n",
    "library(DESeq2)\n",
    "library(dplyr)\n",
    "library(ComplexHeatmap)\n",
    "library(EnhancedVolcano)\n",
    "library(ggplot2)\n",
    "library(ggrepel)\n",
    "library(ggfortify)"
   ]
  },
  {
   "cell_type": "code",
   "execution_count": 3,
   "metadata": {},
   "outputs": [],
   "source": [
    "library(\"DESeq2\")"
   ]
  },
  {
   "cell_type": "markdown",
   "metadata": {
    "tags": []
   },
   "source": [
    "### STEP 2: Downloading Data\n",
    "\n",
    "First we need to download the readcounts we produced in the previous step.\n",
    "\n",
    "(Note this jupyter notebook file is set to use R, as opposed to the previous notebook which primarily used Python. \n",
    "\n",
    "In this setup, bash commands are called using the system() function, instead of with the '!' prefix.)"
   ]
  },
  {
   "cell_type": "code",
   "execution_count": 4,
   "metadata": {},
   "outputs": [
    {
     "data": {
      "text/html": [],
      "text/latex": [],
      "text/markdown": [],
      "text/plain": [
       "character(0)"
      ]
     },
     "metadata": {},
     "output_type": "display_data"
    },
    {
     "data": {
      "text/html": [],
      "text/latex": [],
      "text/markdown": [],
      "text/plain": [
       "character(0)"
      ]
     },
     "metadata": {},
     "output_type": "display_data"
    },
    {
     "data": {
      "text/html": [],
      "text/latex": [],
      "text/markdown": [],
      "text/plain": [
       "character(0)"
      ]
     },
     "metadata": {},
     "output_type": "display_data"
    },
    {
     "data": {
      "text/html": [],
      "text/latex": [],
      "text/markdown": [],
      "text/plain": [
       "character(0)"
      ]
     },
     "metadata": {},
     "output_type": "display_data"
    }
   ],
   "source": [
    "# Create folders we will store downloaded files in\n",
    "system(\"mkdir -p data/gene_counts/single\", intern=TRUE)\n",
    "system(\"mkdir -p data/gene_counts/merged\", intern=TRUE)\n",
    "system(\"mkdir -p data/reference\", intern=TRUE)\n",
    "\n",
    "# Download genecount files\n",
    "system(\"gsutil cp gs://hon_350/whim_results/*genes.results data/gene_counts/single\", intern=TRUE)"
   ]
  },
  {
   "cell_type": "markdown",
   "metadata": {},
   "source": [
    "# Combining files into a single table.\n",
    "\n",
    "In order to run our pipeline, we need to do two things to our genecount files. First, we need to combine them into a single easy to use file, and second, we need to read that file into the R environment as a R Dataframe.\n",
    "\n",
    "We will combine our tables together such that rows will represent gene IDs, and each column will hold the TPM counts from each genecount file.\n",
    "\n",
    "The below code will both merge files into a single file."
   ]
  },
  {
   "cell_type": "code",
   "execution_count": 5,
   "metadata": {},
   "outputs": [
    {
     "name": "stdout",
     "output_type": "stream",
     "text": [
      "[1] \"data/gene_counts/single//SA60184.genes.results\"\n",
      "[1] \"data/gene_counts/single//SA60185.genes.results\"\n",
      "[1] \"data/gene_counts/single//SA60186.genes.results\"\n",
      "[1] \"data/gene_counts/single//SA60187.genes.results\"\n",
      "[1] \"data/gene_counts/single//SA60188.genes.results\"\n",
      "[1] \"data/gene_counts/single//SA60189.genes.results\"\n",
      "[1] \"data/gene_counts/single//SA60190.genes.results\"\n",
      "[1] \"data/gene_counts/single//SA60191.genes.results\"\n"
     ]
    },
    {
     "data": {
      "text/html": [
       "<table class=\"dataframe\">\n",
       "<caption>A data.frame: 6 × 9</caption>\n",
       "<thead>\n",
       "\t<tr><th></th><th scope=col>GeneID</th><th scope=col>SA60184</th><th scope=col>SA60185</th><th scope=col>SA60186</th><th scope=col>SA60187</th><th scope=col>SA60188</th><th scope=col>SA60189</th><th scope=col>SA60190</th><th scope=col>SA60191</th></tr>\n",
       "\t<tr><th></th><th scope=col>&lt;chr&gt;</th><th scope=col>&lt;dbl&gt;</th><th scope=col>&lt;dbl&gt;</th><th scope=col>&lt;dbl&gt;</th><th scope=col>&lt;dbl&gt;</th><th scope=col>&lt;dbl&gt;</th><th scope=col>&lt;dbl&gt;</th><th scope=col>&lt;dbl&gt;</th><th scope=col>&lt;dbl&gt;</th></tr>\n",
       "</thead>\n",
       "<tbody>\n",
       "\t<tr><th scope=row>1</th><td>ENSDARG00000000001</td><td> 21.00</td><td> 14.00</td><td> 12.00</td><td> 22.00</td><td>  9.00</td><td> 16.00</td><td>  5.00</td><td> 13.00</td></tr>\n",
       "\t<tr><th scope=row>2</th><td>ENSDARG00000000002</td><td> 52.00</td><td> 51.00</td><td> 47.00</td><td> 63.00</td><td> 41.00</td><td> 58.00</td><td> 60.00</td><td> 33.00</td></tr>\n",
       "\t<tr><th scope=row>3</th><td>ENSDARG00000000018</td><td> 87.00</td><td> 93.00</td><td> 80.00</td><td>139.00</td><td> 64.00</td><td> 84.00</td><td> 65.00</td><td> 65.00</td></tr>\n",
       "\t<tr><th scope=row>4</th><td>ENSDARG00000000019</td><td>289.63</td><td>285.92</td><td>303.06</td><td>378.21</td><td>199.40</td><td>337.04</td><td>203.38</td><td>151.89</td></tr>\n",
       "\t<tr><th scope=row>5</th><td>ENSDARG00000000068</td><td> 75.00</td><td> 49.57</td><td> 64.30</td><td> 86.02</td><td> 43.00</td><td> 71.00</td><td> 29.00</td><td> 36.00</td></tr>\n",
       "\t<tr><th scope=row>6</th><td>ENSDARG00000000069</td><td>221.00</td><td>182.07</td><td>195.38</td><td>245.00</td><td> 97.03</td><td>167.00</td><td> 86.00</td><td> 94.00</td></tr>\n",
       "</tbody>\n",
       "</table>\n"
      ],
      "text/latex": [
       "A data.frame: 6 × 9\n",
       "\\begin{tabular}{r|lllllllll}\n",
       "  & GeneID & SA60184 & SA60185 & SA60186 & SA60187 & SA60188 & SA60189 & SA60190 & SA60191\\\\\n",
       "  & <chr> & <dbl> & <dbl> & <dbl> & <dbl> & <dbl> & <dbl> & <dbl> & <dbl>\\\\\n",
       "\\hline\n",
       "\t1 & ENSDARG00000000001 &  21.00 &  14.00 &  12.00 &  22.00 &   9.00 &  16.00 &   5.00 &  13.00\\\\\n",
       "\t2 & ENSDARG00000000002 &  52.00 &  51.00 &  47.00 &  63.00 &  41.00 &  58.00 &  60.00 &  33.00\\\\\n",
       "\t3 & ENSDARG00000000018 &  87.00 &  93.00 &  80.00 & 139.00 &  64.00 &  84.00 &  65.00 &  65.00\\\\\n",
       "\t4 & ENSDARG00000000019 & 289.63 & 285.92 & 303.06 & 378.21 & 199.40 & 337.04 & 203.38 & 151.89\\\\\n",
       "\t5 & ENSDARG00000000068 &  75.00 &  49.57 &  64.30 &  86.02 &  43.00 &  71.00 &  29.00 &  36.00\\\\\n",
       "\t6 & ENSDARG00000000069 & 221.00 & 182.07 & 195.38 & 245.00 &  97.03 & 167.00 &  86.00 &  94.00\\\\\n",
       "\\end{tabular}\n"
      ],
      "text/markdown": [
       "\n",
       "A data.frame: 6 × 9\n",
       "\n",
       "| <!--/--> | GeneID &lt;chr&gt; | SA60184 &lt;dbl&gt; | SA60185 &lt;dbl&gt; | SA60186 &lt;dbl&gt; | SA60187 &lt;dbl&gt; | SA60188 &lt;dbl&gt; | SA60189 &lt;dbl&gt; | SA60190 &lt;dbl&gt; | SA60191 &lt;dbl&gt; |\n",
       "|---|---|---|---|---|---|---|---|---|---|\n",
       "| 1 | ENSDARG00000000001 |  21.00 |  14.00 |  12.00 |  22.00 |   9.00 |  16.00 |   5.00 |  13.00 |\n",
       "| 2 | ENSDARG00000000002 |  52.00 |  51.00 |  47.00 |  63.00 |  41.00 |  58.00 |  60.00 |  33.00 |\n",
       "| 3 | ENSDARG00000000018 |  87.00 |  93.00 |  80.00 | 139.00 |  64.00 |  84.00 |  65.00 |  65.00 |\n",
       "| 4 | ENSDARG00000000019 | 289.63 | 285.92 | 303.06 | 378.21 | 199.40 | 337.04 | 203.38 | 151.89 |\n",
       "| 5 | ENSDARG00000000068 |  75.00 |  49.57 |  64.30 |  86.02 |  43.00 |  71.00 |  29.00 |  36.00 |\n",
       "| 6 | ENSDARG00000000069 | 221.00 | 182.07 | 195.38 | 245.00 |  97.03 | 167.00 |  86.00 |  94.00 |\n",
       "\n"
      ],
      "text/plain": [
       "  GeneID             SA60184 SA60185 SA60186 SA60187 SA60188 SA60189 SA60190\n",
       "1 ENSDARG00000000001  21.00   14.00   12.00   22.00    9.00   16.00    5.00 \n",
       "2 ENSDARG00000000002  52.00   51.00   47.00   63.00   41.00   58.00   60.00 \n",
       "3 ENSDARG00000000018  87.00   93.00   80.00  139.00   64.00   84.00   65.00 \n",
       "4 ENSDARG00000000019 289.63  285.92  303.06  378.21  199.40  337.04  203.38 \n",
       "5 ENSDARG00000000068  75.00   49.57   64.30   86.02   43.00   71.00   29.00 \n",
       "6 ENSDARG00000000069 221.00  182.07  195.38  245.00   97.03  167.00   86.00 \n",
       "  SA60191\n",
       "1  13.00 \n",
       "2  33.00 \n",
       "3  65.00 \n",
       "4 151.89 \n",
       "5  36.00 \n",
       "6  94.00 "
      ]
     },
     "metadata": {},
     "output_type": "display_data"
    }
   ],
   "source": [
    "# use the directory to fill up a list of all\n",
    "# gene count files to merge\n",
    "file_list <- list.files('data/gene_counts/single/', full.names = TRUE)\n",
    "\n",
    "for (file in file_list){\n",
    "  print(file)\n",
    "  # if the merged dataset doesn't exist, \n",
    "  # first, create a base dataframe to append\n",
    "  # further columns to.\n",
    "  if (!exists(\"dataset\")){\n",
    "    dataset <- read.table(file, header=TRUE, sep=\"\\t\")\n",
    "    dataset <- dataset[,c(1,5)]\n",
    "  }\n",
    " \n",
    "  # if the merged dataset does exist, \\\n",
    "  # append TPM columns to it\n",
    "  else {\n",
    "    temp_dataset <-read.table(file, header=TRUE, sep=\"\\t\")\n",
    "    # print(file)\n",
    "    dataset<-cbind(dataset, temp_dataset[,5])\n",
    "  }\n",
    " \n",
    "}\n",
    "\n",
    "# next we need to name the columns\n",
    "# of our combined dataset.\n",
    "\n",
    "# we can just use the filenames in the directory\n",
    "colnames <- c(\"GeneID\",list.files('data/gene_counts/single/'))\n",
    "# remove the filename extension\n",
    "colnames <- gsub(\".genes.results\", \"\", colnames)\n",
    "# set the columns\n",
    "names(dataset) <- colnames\n",
    "\n",
    "# write out the merged file for later use \n",
    "write.table(dataset,\"data/gene_counts/merged/merged_counts.txt\",sep=\"\\t\",row.names=FALSE)\n",
    "\n",
    "# example of what the file looks like\n",
    "head(dataset)\n",
    "\n",
    "# empty variable for now\n",
    "rm(dataset)"
   ]
  },
  {
   "cell_type": "markdown",
   "metadata": {
    "tags": []
   },
   "source": [
    "### STEP 2: Reading in Data\n",
    "\n",
    "To be manipulated in R, files need to be read-in as R dataframes. \n",
    "\n",
    "This read-in step often involves reformatting or adjusting the data.\n",
    "\n",
    "For instance, later on we will process the data using processes such as logarithms. So, to prevent errors, we will replace all readcount values of '0' in our data, with '1'. This will change the data only slightly, and will prevent these zeroes from causing an 'undefined' or 'N/A' math error in future steps.\n"
   ]
  },
  {
   "cell_type": "code",
   "execution_count": 6,
   "metadata": {},
   "outputs": [
    {
     "data": {
      "text/html": [
       "<table class=\"dataframe\">\n",
       "<caption>A matrix: 6 × 8 of type dbl</caption>\n",
       "<thead>\n",
       "\t<tr><th></th><th scope=col>SA60184</th><th scope=col>SA60185</th><th scope=col>SA60186</th><th scope=col>SA60187</th><th scope=col>SA60188</th><th scope=col>SA60189</th><th scope=col>SA60190</th><th scope=col>SA60191</th></tr>\n",
       "</thead>\n",
       "<tbody>\n",
       "\t<tr><th scope=row>ENSDARG00000000001</th><td> 21</td><td> 14</td><td> 12</td><td> 22</td><td>  9</td><td> 16</td><td>  5</td><td> 13</td></tr>\n",
       "\t<tr><th scope=row>ENSDARG00000000002</th><td> 52</td><td> 51</td><td> 47</td><td> 63</td><td> 41</td><td> 58</td><td> 60</td><td> 33</td></tr>\n",
       "\t<tr><th scope=row>ENSDARG00000000018</th><td> 87</td><td> 93</td><td> 80</td><td>139</td><td> 64</td><td> 84</td><td> 65</td><td> 65</td></tr>\n",
       "\t<tr><th scope=row>ENSDARG00000000019</th><td>290</td><td>286</td><td>303</td><td>378</td><td>199</td><td>337</td><td>203</td><td>152</td></tr>\n",
       "\t<tr><th scope=row>ENSDARG00000000068</th><td> 75</td><td> 50</td><td> 64</td><td> 86</td><td> 43</td><td> 71</td><td> 29</td><td> 36</td></tr>\n",
       "\t<tr><th scope=row>ENSDARG00000000069</th><td>221</td><td>182</td><td>195</td><td>245</td><td> 97</td><td>167</td><td> 86</td><td> 94</td></tr>\n",
       "</tbody>\n",
       "</table>\n"
      ],
      "text/latex": [
       "A matrix: 6 × 8 of type dbl\n",
       "\\begin{tabular}{r|llllllll}\n",
       "  & SA60184 & SA60185 & SA60186 & SA60187 & SA60188 & SA60189 & SA60190 & SA60191\\\\\n",
       "\\hline\n",
       "\tENSDARG00000000001 &  21 &  14 &  12 &  22 &   9 &  16 &   5 &  13\\\\\n",
       "\tENSDARG00000000002 &  52 &  51 &  47 &  63 &  41 &  58 &  60 &  33\\\\\n",
       "\tENSDARG00000000018 &  87 &  93 &  80 & 139 &  64 &  84 &  65 &  65\\\\\n",
       "\tENSDARG00000000019 & 290 & 286 & 303 & 378 & 199 & 337 & 203 & 152\\\\\n",
       "\tENSDARG00000000068 &  75 &  50 &  64 &  86 &  43 &  71 &  29 &  36\\\\\n",
       "\tENSDARG00000000069 & 221 & 182 & 195 & 245 &  97 & 167 &  86 &  94\\\\\n",
       "\\end{tabular}\n"
      ],
      "text/markdown": [
       "\n",
       "A matrix: 6 × 8 of type dbl\n",
       "\n",
       "| <!--/--> | SA60184 | SA60185 | SA60186 | SA60187 | SA60188 | SA60189 | SA60190 | SA60191 |\n",
       "|---|---|---|---|---|---|---|---|---|\n",
       "| ENSDARG00000000001 |  21 |  14 |  12 |  22 |   9 |  16 |   5 |  13 |\n",
       "| ENSDARG00000000002 |  52 |  51 |  47 |  63 |  41 |  58 |  60 |  33 |\n",
       "| ENSDARG00000000018 |  87 |  93 |  80 | 139 |  64 |  84 |  65 |  65 |\n",
       "| ENSDARG00000000019 | 290 | 286 | 303 | 378 | 199 | 337 | 203 | 152 |\n",
       "| ENSDARG00000000068 |  75 |  50 |  64 |  86 |  43 |  71 |  29 |  36 |\n",
       "| ENSDARG00000000069 | 221 | 182 | 195 | 245 |  97 | 167 |  86 |  94 |\n",
       "\n"
      ],
      "text/plain": [
       "                   SA60184 SA60185 SA60186 SA60187 SA60188 SA60189 SA60190\n",
       "ENSDARG00000000001  21      14      12      22       9      16       5    \n",
       "ENSDARG00000000002  52      51      47      63      41      58      60    \n",
       "ENSDARG00000000018  87      93      80     139      64      84      65    \n",
       "ENSDARG00000000019 290     286     303     378     199     337     203    \n",
       "ENSDARG00000000068  75      50      64      86      43      71      29    \n",
       "ENSDARG00000000069 221     182     195     245      97     167      86    \n",
       "                   SA60191\n",
       "ENSDARG00000000001  13    \n",
       "ENSDARG00000000002  33    \n",
       "ENSDARG00000000018  65    \n",
       "ENSDARG00000000019 152    \n",
       "ENSDARG00000000068  36    \n",
       "ENSDARG00000000069  94    "
      ]
     },
     "metadata": {},
     "output_type": "display_data"
    }
   ],
   "source": [
    "# read-in the merged gene count file\n",
    "# to a dataframe variable we named 'read_counts'\n",
    "read_counts <- read.table('data/gene_counts/merged/merged_counts.txt',head=TRUE)\n",
    "\n",
    "# replace all count entries of '0' in the raw gene count file with '1'.\n",
    "read_counts[read_counts==0] <- 1\n",
    "\n",
    "# assign rownames using the gene ID column\n",
    "# and remove the gene ID column\n",
    "# this format is important for DESEQ2\n",
    "rnaseqMatrix <- data.matrix(round(read_counts[,-1]))\n",
    "rownames(rnaseqMatrix) <- read_counts[,1]\n",
    "\n",
    "#example of how the read-in data frame looks\n",
    "\n",
    "head(rnaseqMatrix)\n"
   ]
  },
  {
   "cell_type": "markdown",
   "metadata": {},
   "source": [
    "### STEP 4: Specifying Experimental Design\n",
    "\n",
    "Next specify the experimental design. \n",
    "\n",
    "DESEQ2 uses an experimental design table for specifying grouping of samples.\n",
    "\n",
    "This is used, for instance to group samples together and output information about the statistical differences in gene expression between genes in specified groups.\n",
    "\n",
    "An experimental design table can be created however you want and then read into R as a dataframe, or created in R itself, as below."
   ]
  },
  {
   "cell_type": "code",
   "execution_count": 7,
   "metadata": {},
   "outputs": [
    {
     "name": "stdout",
     "output_type": "stream",
     "text": [
      "[1] \"So our deseq2 experimental design table might look like this:\"\n"
     ]
    },
    {
     "data": {
      "text/html": [
       "<table class=\"dataframe\">\n",
       "<caption>A data.frame: 8 × 2</caption>\n",
       "<thead>\n",
       "\t<tr><th></th><th scope=col>ID</th><th scope=col>Treatment</th></tr>\n",
       "\t<tr><th></th><th scope=col>&lt;chr&gt;</th><th scope=col>&lt;chr&gt;</th></tr>\n",
       "</thead>\n",
       "<tbody>\n",
       "\t<tr><th scope=row>SA60184</th><td>SA60184</td><td>MUT</td></tr>\n",
       "\t<tr><th scope=row>SA60185</th><td>SA60185</td><td>MUT</td></tr>\n",
       "\t<tr><th scope=row>SA60186</th><td>SA60186</td><td>MUT</td></tr>\n",
       "\t<tr><th scope=row>SA60187</th><td>SA60187</td><td>MUT</td></tr>\n",
       "\t<tr><th scope=row>SA60188</th><td>SA60188</td><td>WT </td></tr>\n",
       "\t<tr><th scope=row>SA60189</th><td>SA60189</td><td>WT </td></tr>\n",
       "\t<tr><th scope=row>SA60190</th><td>SA60190</td><td>WT </td></tr>\n",
       "\t<tr><th scope=row>SA60191</th><td>SA60191</td><td>WT </td></tr>\n",
       "</tbody>\n",
       "</table>\n"
      ],
      "text/latex": [
       "A data.frame: 8 × 2\n",
       "\\begin{tabular}{r|ll}\n",
       "  & ID & Treatment\\\\\n",
       "  & <chr> & <chr>\\\\\n",
       "\\hline\n",
       "\tSA60184 & SA60184 & MUT\\\\\n",
       "\tSA60185 & SA60185 & MUT\\\\\n",
       "\tSA60186 & SA60186 & MUT\\\\\n",
       "\tSA60187 & SA60187 & MUT\\\\\n",
       "\tSA60188 & SA60188 & WT \\\\\n",
       "\tSA60189 & SA60189 & WT \\\\\n",
       "\tSA60190 & SA60190 & WT \\\\\n",
       "\tSA60191 & SA60191 & WT \\\\\n",
       "\\end{tabular}\n"
      ],
      "text/markdown": [
       "\n",
       "A data.frame: 8 × 2\n",
       "\n",
       "| <!--/--> | ID &lt;chr&gt; | Treatment &lt;chr&gt; |\n",
       "|---|---|---|\n",
       "| SA60184 | SA60184 | MUT |\n",
       "| SA60185 | SA60185 | MUT |\n",
       "| SA60186 | SA60186 | MUT |\n",
       "| SA60187 | SA60187 | MUT |\n",
       "| SA60188 | SA60188 | WT  |\n",
       "| SA60189 | SA60189 | WT  |\n",
       "| SA60190 | SA60190 | WT  |\n",
       "| SA60191 | SA60191 | WT  |\n",
       "\n"
      ],
      "text/plain": [
       "        ID      Treatment\n",
       "SA60184 SA60184 MUT      \n",
       "SA60185 SA60185 MUT      \n",
       "SA60186 SA60186 MUT      \n",
       "SA60187 SA60187 MUT      \n",
       "SA60188 SA60188 WT       \n",
       "SA60189 SA60189 WT       \n",
       "SA60190 SA60190 WT       \n",
       "SA60191 SA60191 WT       "
      ]
     },
     "metadata": {},
     "output_type": "display_data"
    }
   ],
   "source": [
    "# use R to create a DESEQ2 design table\n",
    "\n",
    "# first, the sample column will just be \n",
    "# sample IDs\n",
    "samples_ID <- data.frame(matrix(colnames(rnaseqMatrix),ncol=1))\n",
    "samples_ID <- c(\"SA60184\",\"SA60185\",\"SA60186\",\"SA60187\",\n",
    "                \"SA60188\",\"SA60189\",\"SA60190\",\"SA60191\")\n",
    "\n",
    "# second, \n",
    "# our experiment involves looks at IAV \n",
    "# and control zebrafish.\n",
    "\n",
    "# there are eight samples\n",
    "# 4 WHIM mutants at 24 hpi, and 4 sibling (wild-type) at 24 hpi.\n",
    "\n",
    "# SA60184 WHIM_GFP_24hpi_2\n",
    "# SA60185 WHIM_GFP_24hpi_3\n",
    "# SA60186 WHIM_GFP_24hpi_4\n",
    "# SA60187 WHIM_GFP_24hpi_5\n",
    "# SA60188 WHIM_sibling_24hpi_1\n",
    "# SA60189 WHIM_sibling_24hpi_3\n",
    "# SA60190 WHIM_sibling_24hpi_4\n",
    "# SA60191 WHIM_sibling_24hpi_5\n",
    "\n",
    "samples_treatment <- data.frame(matrix(c(\"MUT\",\"MUT\",\"MUT\",\"MUT\",\n",
    "                               \"WT\",\"WT\",\"WT\",\"WT\"),ncol=1))\n",
    "\n",
    "\n",
    "samples <- cbind(samples_ID, samples_treatment)\n",
    "names(samples) <- c(\"ID\",\"Treatment\")\n",
    "rownames(samples) <- samples[,1]\n",
    "\n",
    "print(\"So our deseq2 experimental design table might look like this:\")\n",
    "samples\n",
    "\n"
   ]
  },
  {
   "cell_type": "markdown",
   "metadata": {},
   "source": [
    "### STEP 5: Creating Deseq2 Object and Normalizing Data.\n",
    "\n",
    "Now use the treatment design matrix in combination with the readcount matrix to create a deseq2 object. \n",
    "\n",
    "Once created, this is also a good opportunity to filter out lowly expresseed genes, and to inspect the pre-normalized data using pairwise comparison plots.\n",
    "\n",
    "Finally, the deseq2 analysis can be run on the deseq2 object. Normalization is automatically preformed during the DESeq() step, and data is then transformed using deseq2s 'regularized log', more information about both can be find in the deseq2 documentation."
   ]
  },
  {
   "cell_type": "code",
   "execution_count": 13,
   "metadata": {},
   "outputs": [
    {
     "name": "stderr",
     "output_type": "stream",
     "text": [
      "converting counts to integer mode\n",
      "\n",
      "Warning message in DESeqDataSet(se, design = design, ignoreRank):\n",
      "“some variables in design formula are characters, converting to factors”\n"
     ]
    },
    {
     "data": {
      "text/html": [
       "<strong>png:</strong> 2"
      ],
      "text/latex": [
       "\\textbf{png:} 2"
      ],
      "text/markdown": [
       "**png:** 2"
      ],
      "text/plain": [
       "png \n",
       "  2 "
      ]
     },
     "metadata": {},
     "output_type": "display_data"
    },
    {
     "data": {
      "text/html": [
       "<strong>png:</strong> 2"
      ],
      "text/latex": [
       "\\textbf{png:} 2"
      ],
      "text/markdown": [
       "**png:** 2"
      ],
      "text/plain": [
       "png \n",
       "  2 "
      ]
     },
     "metadata": {},
     "output_type": "display_data"
    },
    {
     "name": "stderr",
     "output_type": "stream",
     "text": [
      "estimating size factors\n",
      "\n",
      "estimating dispersions\n",
      "\n",
      "gene-wise dispersion estimates\n",
      "\n",
      "mean-dispersion relationship\n",
      "\n",
      "final dispersion estimates\n",
      "\n",
      "fitting model and testing\n",
      "\n"
     ]
    },
    {
     "data": {
      "text/html": [
       "<table class=\"dataframe\">\n",
       "<caption>A matrix: 6 × 8 of type dbl</caption>\n",
       "<thead>\n",
       "\t<tr><th></th><th scope=col>SA60184</th><th scope=col>SA60185</th><th scope=col>SA60186</th><th scope=col>SA60187</th><th scope=col>SA60188</th><th scope=col>SA60189</th><th scope=col>SA60190</th><th scope=col>SA60191</th></tr>\n",
       "</thead>\n",
       "<tbody>\n",
       "\t<tr><th scope=row>ENSDARG00000000001</th><td>3.812936</td><td>3.715436</td><td>3.680984</td><td>3.775904</td><td>3.706801</td><td>3.732657</td><td>3.577631</td><td>3.825922</td></tr>\n",
       "\t<tr><th scope=row>ENSDARG00000000002</th><td>5.524703</td><td>5.582993</td><td>5.549833</td><td>5.544134</td><td>5.692871</td><td>5.616237</td><td>5.885615</td><td>5.600779</td></tr>\n",
       "\t<tr><th scope=row>ENSDARG00000000018</th><td>6.237423</td><td>6.372759</td><td>6.279429</td><td>6.482334</td><td>6.388728</td><td>6.239232</td><td>6.327569</td><td>6.444657</td></tr>\n",
       "\t<tr><th scope=row>ENSDARG00000000019</th><td>7.916819</td><td>8.011344</td><td>8.093250</td><td>8.021733</td><td>8.044364</td><td>8.098065</td><td>7.968792</td><td>7.853041</td></tr>\n",
       "\t<tr><th scope=row>ENSDARG00000000068</th><td>5.829228</td><td>5.636160</td><td>5.813442</td><td>5.817255</td><td>5.791341</td><td>5.816017</td><td>5.514058</td><td>5.720693</td></tr>\n",
       "\t<tr><th scope=row>ENSDARG00000000069</th><td>7.388125</td><td>7.311487</td><td>7.398952</td><td>7.340030</td><td>7.112928</td><td>7.167381</td><td>6.936887</td><td>7.138074</td></tr>\n",
       "</tbody>\n",
       "</table>\n"
      ],
      "text/latex": [
       "A matrix: 6 × 8 of type dbl\n",
       "\\begin{tabular}{r|llllllll}\n",
       "  & SA60184 & SA60185 & SA60186 & SA60187 & SA60188 & SA60189 & SA60190 & SA60191\\\\\n",
       "\\hline\n",
       "\tENSDARG00000000001 & 3.812936 & 3.715436 & 3.680984 & 3.775904 & 3.706801 & 3.732657 & 3.577631 & 3.825922\\\\\n",
       "\tENSDARG00000000002 & 5.524703 & 5.582993 & 5.549833 & 5.544134 & 5.692871 & 5.616237 & 5.885615 & 5.600779\\\\\n",
       "\tENSDARG00000000018 & 6.237423 & 6.372759 & 6.279429 & 6.482334 & 6.388728 & 6.239232 & 6.327569 & 6.444657\\\\\n",
       "\tENSDARG00000000019 & 7.916819 & 8.011344 & 8.093250 & 8.021733 & 8.044364 & 8.098065 & 7.968792 & 7.853041\\\\\n",
       "\tENSDARG00000000068 & 5.829228 & 5.636160 & 5.813442 & 5.817255 & 5.791341 & 5.816017 & 5.514058 & 5.720693\\\\\n",
       "\tENSDARG00000000069 & 7.388125 & 7.311487 & 7.398952 & 7.340030 & 7.112928 & 7.167381 & 6.936887 & 7.138074\\\\\n",
       "\\end{tabular}\n"
      ],
      "text/markdown": [
       "\n",
       "A matrix: 6 × 8 of type dbl\n",
       "\n",
       "| <!--/--> | SA60184 | SA60185 | SA60186 | SA60187 | SA60188 | SA60189 | SA60190 | SA60191 |\n",
       "|---|---|---|---|---|---|---|---|---|\n",
       "| ENSDARG00000000001 | 3.812936 | 3.715436 | 3.680984 | 3.775904 | 3.706801 | 3.732657 | 3.577631 | 3.825922 |\n",
       "| ENSDARG00000000002 | 5.524703 | 5.582993 | 5.549833 | 5.544134 | 5.692871 | 5.616237 | 5.885615 | 5.600779 |\n",
       "| ENSDARG00000000018 | 6.237423 | 6.372759 | 6.279429 | 6.482334 | 6.388728 | 6.239232 | 6.327569 | 6.444657 |\n",
       "| ENSDARG00000000019 | 7.916819 | 8.011344 | 8.093250 | 8.021733 | 8.044364 | 8.098065 | 7.968792 | 7.853041 |\n",
       "| ENSDARG00000000068 | 5.829228 | 5.636160 | 5.813442 | 5.817255 | 5.791341 | 5.816017 | 5.514058 | 5.720693 |\n",
       "| ENSDARG00000000069 | 7.388125 | 7.311487 | 7.398952 | 7.340030 | 7.112928 | 7.167381 | 6.936887 | 7.138074 |\n",
       "\n"
      ],
      "text/plain": [
       "                   SA60184  SA60185  SA60186  SA60187  SA60188  SA60189 \n",
       "ENSDARG00000000001 3.812936 3.715436 3.680984 3.775904 3.706801 3.732657\n",
       "ENSDARG00000000002 5.524703 5.582993 5.549833 5.544134 5.692871 5.616237\n",
       "ENSDARG00000000018 6.237423 6.372759 6.279429 6.482334 6.388728 6.239232\n",
       "ENSDARG00000000019 7.916819 8.011344 8.093250 8.021733 8.044364 8.098065\n",
       "ENSDARG00000000068 5.829228 5.636160 5.813442 5.817255 5.791341 5.816017\n",
       "ENSDARG00000000069 7.388125 7.311487 7.398952 7.340030 7.112928 7.167381\n",
       "                   SA60190  SA60191 \n",
       "ENSDARG00000000001 3.577631 3.825922\n",
       "ENSDARG00000000002 5.885615 5.600779\n",
       "ENSDARG00000000018 6.327569 6.444657\n",
       "ENSDARG00000000019 7.968792 7.853041\n",
       "ENSDARG00000000068 5.514058 5.720693\n",
       "ENSDARG00000000069 6.936887 7.138074"
      ]
     },
     "metadata": {},
     "output_type": "display_data"
    }
   ],
   "source": [
    "#Create the DEseq2DataSet object\n",
    "deseq2Data <- DESeqDataSetFromMatrix(countData = rnaseqMatrix, colData = samples, design = ~ Treatment)\n",
    "\n",
    "# Perform pre-filtering of the data\n",
    "deseq2Data <- deseq2Data[rowSums(counts(deseq2Data)) > 10, ]\n",
    "\n",
    "# Inspect pre-normalized data \n",
    "png(\"pairwise_scatterplots.png\")\n",
    "pairs(log2((counts(deseq2Data)+1)))\n",
    "dev.off()\n",
    "\n",
    "png(\"boxplot.png\")\n",
    "boxplot(log2((counts(deseq2Data)+1)))\n",
    "dev.off()\n",
    "\n",
    "# Run pipeline for differential expression steps\n",
    "deseq2Data <- DESeq(deseq2Data)\n",
    "\n",
    "#perform rlog normalization on deseq2 object\n",
    "rld <- rlog(deseq2Data, blind=FALSE)\n",
    "\n",
    "#a handy variable so we can easily reference the rlog genecount matrix in the future, as deseq objects contain many tables of data.\n",
    "rlogcounts <- assay(rld)\n",
    "rownames(rlogcounts) <- rownames(deseq2Data)\n",
    "\n",
    "head(rlogcounts)"
   ]
  },
  {
   "cell_type": "markdown",
   "metadata": {},
   "source": [
    "Normalization of gene readcounts across samples will help to minimize sample variation noise and ensure more accurate comparisons.\n",
    "\n",
    "Normalization of data can is often verified by inspecting by various plots, for instance histograms:"
   ]
  },
  {
   "cell_type": "code",
   "execution_count": 14,
   "metadata": {},
   "outputs": [
    {
     "data": {
      "image/png": "[encoded data removed]",
      "text/plain": [
       "Plot with title “Histogram of rlogcounts”"
      ]
     },
     "metadata": {
      "image/png": {
       "height": 420,
       "width": 420
      }
     },
     "output_type": "display_data"
    }
   ],
   "source": [
    "hist(rlogcounts)"
   ]
  },
  {
   "cell_type": "markdown",
   "metadata": {},
   "source": [
    "Boxplots:"
   ]
  },
  {
   "cell_type": "code",
   "execution_count": 15,
   "metadata": {},
   "outputs": [
    {
     "data": {
      "text/html": [
       "<strong>png:</strong> 2"
      ],
      "text/latex": [
       "\\textbf{png:} 2"
      ],
      "text/markdown": [
       "**png:** 2"
      ],
      "text/plain": [
       "png \n",
       "  2 "
      ]
     },
     "metadata": {},
     "output_type": "display_data"
    }
   ],
   "source": [
    "png(\"boxplot_norm.png\")\n",
    "boxplot(rlogcounts)\n",
    "dev.off()"
   ]
  },
  {
   "cell_type": "markdown",
   "metadata": {},
   "source": [
    "Or pairwise comparison plots."
   ]
  },
  {
   "cell_type": "code",
   "execution_count": 16,
   "metadata": {},
   "outputs": [
    {
     "data": {
      "text/html": [
       "<strong>png:</strong> 2"
      ],
      "text/latex": [
       "\\textbf{png:} 2"
      ],
      "text/markdown": [
       "**png:** 2"
      ],
      "text/plain": [
       "png \n",
       "  2 "
      ]
     },
     "metadata": {},
     "output_type": "display_data"
    }
   ],
   "source": [
    "png(\"pairwise_scatterplots_norm.png\")\n",
    "pairs(rlogcounts)\n",
    "dev.off()"
   ]
  },
  {
   "cell_type": "markdown",
   "metadata": {},
   "source": [
    "Compare the plots of the pre-normalized and normalized data to see the effect of normalization.\n",
    "\n",
    "Notice how the samples in the box plot, and in-group samples in the pair plots display similar distributions.\n",
    "\n",
    "Looking at normalized plots can be an easy way to look out for any obvious inconsistencies or errors in the sample data."
   ]
  },
  {
   "cell_type": "markdown",
   "metadata": {},
   "source": [
    "### STEP 7: PCA Plot\n",
    "\n",
    "We can now begin to produce plots to further analyze the differences between groups.\n",
    "\n",
    "PCA plots can be an effective way to visualize variation within and between sample sets."
   ]
  },
  {
   "cell_type": "code",
   "execution_count": 28,
   "metadata": {},
   "outputs": [
    {
     "data": {
      "text/html": [
       "<strong>png:</strong> 2"
      ],
      "text/latex": [
       "\\textbf{png:} 2"
      ],
      "text/markdown": [
       "**png:** 2"
      ],
      "text/plain": [
       "png \n",
       "  2 "
      ]
     },
     "metadata": {},
     "output_type": "display_data"
    }
   ],
   "source": [
    "pca_counts <- prcomp(t(rlogcounts))\n",
    "png(\"whim_pca.png\")\n",
    "autoplot(pca_counts, data = samples, colour=\"Treatment\",size=3)\n",
    "dev.off()"
   ]
  },
  {
   "cell_type": "markdown",
   "metadata": {},
   "source": [
    "Plots can be output as above, or also saved as pdf or image files, as below. Try to navigate and click to the created file, after you run the code."
   ]
  },
  {
   "cell_type": "code",
   "execution_count": 11,
   "metadata": {},
   "outputs": [
    {
     "data": {
      "text/html": [
       "<strong>png:</strong> 2"
      ],
      "text/latex": [
       "\\textbf{png:} 2"
      ],
      "text/markdown": [
       "**png:** 2"
      ],
      "text/plain": [
       "png \n",
       "  2 "
      ]
     },
     "metadata": {},
     "output_type": "display_data"
    }
   ],
   "source": [
    "pdf(\"data/gene_counts/PCA_Plot.pdf\")\n",
    "autoplot(pca_counts, data = samples, colour=\"Treatment\")\n",
    "dev.off()"
   ]
  },
  {
   "cell_type": "markdown",
   "metadata": {},
   "source": [
    "### STEP 8: Contrast Comparisons\n",
    "\n",
    "Contrast comparisons between two treatment groups can be performed using the deseq2 tool to identify differentially up and down regulated genes.\n",
    "\n",
    "Using R, these results can be summarized, reordered, and/or trimmed."
   ]
  },
  {
   "cell_type": "code",
   "execution_count": 29,
   "metadata": {},
   "outputs": [
    {
     "name": "stdout",
     "output_type": "stream",
     "text": [
      "\n",
      "out of 23381 with nonzero total read count\n",
      "adjusted p-value < 0.1\n",
      "LFC > 0 (up)       : 202, 0.86%\n",
      "LFC < 0 (down)     : 184, 0.79%\n",
      "outliers [1]       : 1, 0.0043%\n",
      "low counts [2]     : 10878, 47%\n",
      "(mean count < 25)\n",
      "[1] see 'cooksCutoff' argument of ?results\n",
      "[2] see 'independentFiltering' argument of ?results\n",
      "\n",
      "[1] \"Number of genes under a p value of 0.05\"\n"
     ]
    },
    {
     "data": {
      "text/html": [
       "1777"
      ],
      "text/latex": [
       "1777"
      ],
      "text/markdown": [
       "1777"
      ],
      "text/plain": [
       "[1] 1777"
      ]
     },
     "metadata": {},
     "output_type": "display_data"
    },
    {
     "name": "stdout",
     "output_type": "stream",
     "text": [
      "[1] \"Number of genes under a p adjusted value of 0.05\"\n"
     ]
    },
    {
     "data": {
      "text/html": [
       "219"
      ],
      "text/latex": [
       "219"
      ],
      "text/markdown": [
       "219"
      ],
      "text/plain": [
       "[1] 219"
      ]
     },
     "metadata": {},
     "output_type": "display_data"
    }
   ],
   "source": [
    "#Output the results of comparing WT and WHIM group\n",
    "res_IAV_CTRL <- results(deseq2Data, contrast=c(\"Treatment\",\"MUT\",\"WT\"))\n",
    "summary(res_IAV_CTRL)\n",
    "print(\"Number of genes under a p value of 0.05\")\n",
    "sum(res_IAV_CTRL$pvalue < 0.05, na.rm=TRUE)\n",
    "print(\"Number of genes under a p adjusted value of 0.05\")\n",
    "sum(res_IAV_CTRL$padj < 0.05, na.rm=TRUE)\n",
    "\n",
    "\n",
    "#deseq2 optionally output some padj values as 'NA' when genecounts meet certain criteria\n",
    "#that criteria can be found here: https://bioconductor.org/packages/release/bioc/vignettes/DESeq2/inst/doc/DESeq2.html#pvaluesNA\n",
    "#for practical uses, one could replace the NA values with '1', essentially NA values not significant.\n",
    "res_IAV_CTRL$padj[is.na(res_IAV_CTRL$padj)] <- 1"
   ]
  },
  {
   "cell_type": "markdown",
   "metadata": {},
   "source": [
    "### STEP 9: Annotating and Exporting Results\n",
    "\n",
    "These differentially expressed genes can be annotated and exported.\n",
    "\n",
    "Combining gene counts with gene annotation isn't always simple, and will vary heavily depending on the annotation file itself.\n",
    "\n",
    "For example, when merging genecounts by 'gene id' with feature tables from NCBI's assembly database, its very common to have duplicate rows, as a single 'gene id' may match to multiple features. \n",
    "\n",
    "Depending on how you want to use your annotated results, you may decide to further reformat your table in whatever suits your further analysis best, for instance by downloading and using a spreadsheet editor.\n",
    "\n",
    "Because the transcript table for m chelonae we have here is so simple, and contains essentially only one 'CDS' or '..RNA' feature for every gene identifier we are using, it is easy for us to reformat it here in the way we want just using R code. However, it is important to note that, again, this is very often not the case, and reformatting will vary depending on both the annotation file itself, and what that annotation file will be used for."
   ]
  },
  {
   "cell_type": "code",
   "execution_count": 30,
   "metadata": {},
   "outputs": [
    {
     "data": {
      "text/html": [],
      "text/latex": [],
      "text/markdown": [],
      "text/plain": [
       "character(0)"
      ]
     },
     "metadata": {},
     "output_type": "display_data"
    },
    {
     "data": {
      "text/html": [
       "<table class=\"dataframe\">\n",
       "<caption>A data.frame: 6 × 9</caption>\n",
       "<thead>\n",
       "\t<tr><th></th><th scope=col>Gene_stable_ID</th><th scope=col>baseMean</th><th scope=col>log2FoldChange</th><th scope=col>lfcSE</th><th scope=col>stat</th><th scope=col>pvalue</th><th scope=col>padj</th><th scope=col>Gene.name</th><th scope=col>Gene.description</th></tr>\n",
       "\t<tr><th></th><th scope=col>&lt;I&lt;chr&gt;&gt;</th><th scope=col>&lt;dbl&gt;</th><th scope=col>&lt;dbl&gt;</th><th scope=col>&lt;dbl&gt;</th><th scope=col>&lt;dbl&gt;</th><th scope=col>&lt;dbl&gt;</th><th scope=col>&lt;dbl&gt;</th><th scope=col>&lt;chr&gt;</th><th scope=col>&lt;chr&gt;</th></tr>\n",
       "</thead>\n",
       "<tbody>\n",
       "\t<tr><th scope=row>1</th><td>ENSDARG00000000001</td><td> 13.29456</td><td> 0.174587923</td><td>0.3941145</td><td> 0.442987767</td><td>0.657774583</td><td>1.00000000</td><td>slc35a5  </td><td>solute carrier family 35 member A5 [Source:NCBI gene;Acc:368418]                           </td></tr>\n",
       "\t<tr><th scope=row>2</th><td>ENSDARG00000000002</td><td> 50.00177</td><td>-0.351703192</td><td>0.2168393</td><td>-1.621953324</td><td>0.104813343</td><td>0.60930312</td><td>ccdc80   </td><td>coiled-coil domain containing 80 [Source:NCBI gene;Acc:368419]                             </td></tr>\n",
       "\t<tr><th scope=row>3</th><td>ENSDARG00000000018</td><td> 81.80772</td><td>-0.001347082</td><td>0.1829983</td><td>-0.007361171</td><td>0.994126688</td><td>0.99934193</td><td>nrf1     </td><td>nuclear respiratory factor 1 [Source:NCBI gene;Acc:64604]                                  </td></tr>\n",
       "\t<tr><th scope=row>4</th><td>ENSDARG00000000019</td><td>256.71348</td><td> 0.022143663</td><td>0.1297546</td><td> 0.170658009</td><td>0.864492682</td><td>0.98022458</td><td>ube2h    </td><td>ubiquitin-conjugating enzyme E2H (UBC8 homolog, yeast) [Source:ZFIN;Acc:ZDB-GENE-030616-67]</td></tr>\n",
       "\t<tr><th scope=row>5</th><td>ENSDARG00000000068</td><td> 53.69485</td><td> 0.132869173</td><td>0.2179671</td><td> 0.609583554</td><td>0.542137709</td><td>0.91434963</td><td>slc9a3r1a</td><td>SLC9A3 regulator 1a [Source:ZFIN;Acc:ZDB-GENE-031006-7]                                    </td></tr>\n",
       "\t<tr><th scope=row>6</th><td>ENSDARG00000000069</td><td>150.64439</td><td> 0.440058588</td><td>0.1460032</td><td> 3.014032914</td><td>0.002577998</td><td>0.09028049</td><td>dap      </td><td>death-associated protein [Source:ZFIN;Acc:ZDB-GENE-000511-3]                               </td></tr>\n",
       "</tbody>\n",
       "</table>\n"
      ],
      "text/latex": [
       "A data.frame: 6 × 9\n",
       "\\begin{tabular}{r|lllllllll}\n",
       "  & Gene\\_stable\\_ID & baseMean & log2FoldChange & lfcSE & stat & pvalue & padj & Gene.name & Gene.description\\\\\n",
       "  & <I<chr>> & <dbl> & <dbl> & <dbl> & <dbl> & <dbl> & <dbl> & <chr> & <chr>\\\\\n",
       "\\hline\n",
       "\t1 & ENSDARG00000000001 &  13.29456 &  0.174587923 & 0.3941145 &  0.442987767 & 0.657774583 & 1.00000000 & slc35a5   & solute carrier family 35 member A5 {[}Source:NCBI gene;Acc:368418{]}                           \\\\\n",
       "\t2 & ENSDARG00000000002 &  50.00177 & -0.351703192 & 0.2168393 & -1.621953324 & 0.104813343 & 0.60930312 & ccdc80    & coiled-coil domain containing 80 {[}Source:NCBI gene;Acc:368419{]}                             \\\\\n",
       "\t3 & ENSDARG00000000018 &  81.80772 & -0.001347082 & 0.1829983 & -0.007361171 & 0.994126688 & 0.99934193 & nrf1      & nuclear respiratory factor 1 {[}Source:NCBI gene;Acc:64604{]}                                  \\\\\n",
       "\t4 & ENSDARG00000000019 & 256.71348 &  0.022143663 & 0.1297546 &  0.170658009 & 0.864492682 & 0.98022458 & ube2h     & ubiquitin-conjugating enzyme E2H (UBC8 homolog, yeast) {[}Source:ZFIN;Acc:ZDB-GENE-030616-67{]}\\\\\n",
       "\t5 & ENSDARG00000000068 &  53.69485 &  0.132869173 & 0.2179671 &  0.609583554 & 0.542137709 & 0.91434963 & slc9a3r1a & SLC9A3 regulator 1a {[}Source:ZFIN;Acc:ZDB-GENE-031006-7{]}                                    \\\\\n",
       "\t6 & ENSDARG00000000069 & 150.64439 &  0.440058588 & 0.1460032 &  3.014032914 & 0.002577998 & 0.09028049 & dap       & death-associated protein {[}Source:ZFIN;Acc:ZDB-GENE-000511-3{]}                               \\\\\n",
       "\\end{tabular}\n"
      ],
      "text/markdown": [
       "\n",
       "A data.frame: 6 × 9\n",
       "\n",
       "| <!--/--> | Gene_stable_ID &lt;I&lt;chr&gt;&gt; | baseMean &lt;dbl&gt; | log2FoldChange &lt;dbl&gt; | lfcSE &lt;dbl&gt; | stat &lt;dbl&gt; | pvalue &lt;dbl&gt; | padj &lt;dbl&gt; | Gene.name &lt;chr&gt; | Gene.description &lt;chr&gt; |\n",
       "|---|---|---|---|---|---|---|---|---|---|\n",
       "| 1 | ENSDARG00000000001 |  13.29456 |  0.174587923 | 0.3941145 |  0.442987767 | 0.657774583 | 1.00000000 | slc35a5   | solute carrier family 35 member A5 [Source:NCBI gene;Acc:368418]                            |\n",
       "| 2 | ENSDARG00000000002 |  50.00177 | -0.351703192 | 0.2168393 | -1.621953324 | 0.104813343 | 0.60930312 | ccdc80    | coiled-coil domain containing 80 [Source:NCBI gene;Acc:368419]                              |\n",
       "| 3 | ENSDARG00000000018 |  81.80772 | -0.001347082 | 0.1829983 | -0.007361171 | 0.994126688 | 0.99934193 | nrf1      | nuclear respiratory factor 1 [Source:NCBI gene;Acc:64604]                                   |\n",
       "| 4 | ENSDARG00000000019 | 256.71348 |  0.022143663 | 0.1297546 |  0.170658009 | 0.864492682 | 0.98022458 | ube2h     | ubiquitin-conjugating enzyme E2H (UBC8 homolog, yeast) [Source:ZFIN;Acc:ZDB-GENE-030616-67] |\n",
       "| 5 | ENSDARG00000000068 |  53.69485 |  0.132869173 | 0.2179671 |  0.609583554 | 0.542137709 | 0.91434963 | slc9a3r1a | SLC9A3 regulator 1a [Source:ZFIN;Acc:ZDB-GENE-031006-7]                                     |\n",
       "| 6 | ENSDARG00000000069 | 150.64439 |  0.440058588 | 0.1460032 |  3.014032914 | 0.002577998 | 0.09028049 | dap       | death-associated protein [Source:ZFIN;Acc:ZDB-GENE-000511-3]                                |\n",
       "\n"
      ],
      "text/plain": [
       "  Gene_stable_ID     baseMean  log2FoldChange lfcSE     stat        \n",
       "1 ENSDARG00000000001  13.29456  0.174587923   0.3941145  0.442987767\n",
       "2 ENSDARG00000000002  50.00177 -0.351703192   0.2168393 -1.621953324\n",
       "3 ENSDARG00000000018  81.80772 -0.001347082   0.1829983 -0.007361171\n",
       "4 ENSDARG00000000019 256.71348  0.022143663   0.1297546  0.170658009\n",
       "5 ENSDARG00000000068  53.69485  0.132869173   0.2179671  0.609583554\n",
       "6 ENSDARG00000000069 150.64439  0.440058588   0.1460032  3.014032914\n",
       "  pvalue      padj       Gene.name\n",
       "1 0.657774583 1.00000000 slc35a5  \n",
       "2 0.104813343 0.60930312 ccdc80   \n",
       "3 0.994126688 0.99934193 nrf1     \n",
       "4 0.864492682 0.98022458 ube2h    \n",
       "5 0.542137709 0.91434963 slc9a3r1a\n",
       "6 0.002577998 0.09028049 dap      \n",
       "  Gene.description                                                                           \n",
       "1 solute carrier family 35 member A5 [Source:NCBI gene;Acc:368418]                           \n",
       "2 coiled-coil domain containing 80 [Source:NCBI gene;Acc:368419]                             \n",
       "3 nuclear respiratory factor 1 [Source:NCBI gene;Acc:64604]                                  \n",
       "4 ubiquitin-conjugating enzyme E2H (UBC8 homolog, yeast) [Source:ZFIN;Acc:ZDB-GENE-030616-67]\n",
       "5 SLC9A3 regulator 1a [Source:ZFIN;Acc:ZDB-GENE-031006-7]                                    \n",
       "6 death-associated protein [Source:ZFIN;Acc:ZDB-GENE-000511-3]                               "
      ]
     },
     "metadata": {},
     "output_type": "display_data"
    }
   ],
   "source": [
    "system(\"gsutil cp gs://hon_350/reference/biomart_GRCz11_annotation.txt data/reference/\", intern=TRUE)\n",
    "\n",
    "#read-in the annotation file (see extended tutorial for more info on how to get annotation files) and store it into a variable.\n",
    "annotation <- read.table(\"data/reference/biomart_GRCz11_annotation.txt\", header=TRUE,sep='\\t', quote=\"\\\"\",comment.char = \"\")\n",
    "\n",
    "#put the previous deseq results into an easier to manipulate data.frame format\n",
    "results <- data.frame(res_IAV_CTRL)\n",
    "\n",
    "#merge the annotation with the deseq2 contrast comparison table\n",
    "results.annot <- merge(results,annotation,by.x=0,by.y=1,all.x=TRUE)\n",
    "\n",
    "\n",
    "#labeling the columns properly after the merge\n",
    "colnames(results.annot)[1] <- 'Gene_stable_ID'\n",
    "\n",
    "#write out the file\n",
    "write.table(results.annot,\"data/gene_counts/24hrs_CTRL_IAV_DESeq2_annot.txt\",row.names=FALSE,sep=\"\\t\")\n",
    "\n",
    "head(results.annot)"
   ]
  },
  {
   "cell_type": "code",
   "execution_count": 16,
   "metadata": {},
   "outputs": [
    {
     "data": {
      "text/html": [],
      "text/latex": [],
      "text/markdown": [],
      "text/plain": [
       "character(0)"
      ]
     },
     "metadata": {},
     "output_type": "display_data"
    }
   ],
   "source": [
    "#upload annotated file to google cloud\n",
    "system(\"gsutil cp data/gene_counts/24hrs_CTRL_IAV_DESeq2_annot.txt gs://hon_350/24hours_results/\", intern=TRUE)\n"
   ]
  },
  {
   "cell_type": "markdown",
   "metadata": {},
   "source": [
    "### STEP 10: More Plots and Clustering Data\n",
    "\n",
    "Finally, although several other different kind of analysis can be done, it is common to plot the results of differential gene expression analysis in forms such as volcano, MA, and heatmaps. These plots help one to further examine the output list of differentially expressed genes in different ways, and potentially identify or further investigate candidate gene(s)."
   ]
  },
  {
   "cell_type": "code",
   "execution_count": 32,
   "metadata": {
    "tags": []
   },
   "outputs": [
    {
     "data": {
      "text/html": [
       "<strong>png:</strong> 2"
      ],
      "text/latex": [
       "\\textbf{png:} 2"
      ],
      "text/markdown": [
       "**png:** 2"
      ],
      "text/plain": [
       "png \n",
       "  2 "
      ]
     },
     "metadata": {},
     "output_type": "display_data"
    },
    {
     "data": {
      "text/html": [
       "<strong>png:</strong> 2"
      ],
      "text/latex": [
       "\\textbf{png:} 2"
      ],
      "text/markdown": [
       "**png:** 2"
      ],
      "text/plain": [
       "png \n",
       "  2 "
      ]
     },
     "metadata": {},
     "output_type": "display_data"
    },
    {
     "data": {
      "image/png": "[encoded data removed]",
      "text/plain": [
       "plot without title"
      ]
     },
     "metadata": {
      "image/png": {
       "height": 420,
       "width": 420
      }
     },
     "output_type": "display_data"
    }
   ],
   "source": [
    "#volcano and ma plots can be used to visualize significant differences in gene expression\n",
    "results_volc_df <- results.annot\n",
    "png(\"whim_volcano_plot.png\")\n",
    "EnhancedVolcano(results_volc_df,\n",
    "    lab = results_volc_df[,1],\n",
    "    x = 'log2FoldChange',\n",
    "    y = 'padj')\n",
    "dev.off()\n",
    "\n",
    "#ma plot\n",
    "png(\"whim_MA_plot.png\")\n",
    "plotMA(res_IAV_CTRL)\n",
    "dev.off()\n",
    "\n",
    "\n",
    "#heatmaps can used to look at clustering and expression of various gene lists.\n",
    "filtered_res <- results.annot %>% filter(padj < 0.05)\n",
    "filtered_res_counts <- subset(rlogcounts, rownames(rlogcounts) %in% filtered_res[,1])\n",
    "filtered_res_counts = t(scale(t(filtered_res_counts)))\n",
    "#showing 40 of the genes under padj 0.05 (in no order)\n",
    "Heatmap(filtered_res_counts[1:40,], name = \"Z-Score\", row_names_gp = gpar(fontsize = 8))"
   ]
  },
  {
   "cell_type": "code",
   "execution_count": null,
   "metadata": {},
   "outputs": [],
   "source": []
  }
 ],
 "metadata": {
  "environment": {
   "kernel": "ir",
   "name": ".m112",
   "type": "gcloud",
   "uri": "gcr.io/deeplearning-platform-release/:m112"
  },
  "kernelspec": {
   "display_name": "R",
   "language": "R",
   "name": "ir"
  },
  "language_info": {
   "codemirror_mode": "r",
   "file_extension": ".r",
   "mimetype": "text/x-r-source",
   "name": "R",
   "pygments_lexer": "r",
   "version": "4.2.3"
  }
 },
 "nbformat": 4,
 "nbformat_minor": 4
}
