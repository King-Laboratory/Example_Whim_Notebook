{
 "cells": [
  {
   "cell_type": "markdown",
   "id": "ea4444bb-b96c-49c7-89c7-ce3b5eeaf278",
   "metadata": {},
   "source": [
    "# Install Required Software"
   ]
  },
  {
   "cell_type": "code",
   "execution_count": null,
   "id": "dd27a9d8-86ba-4566-aaba-c1397831637a",
   "metadata": {
    "scrolled": true,
    "tags": []
   },
   "outputs": [],
   "source": [
    "#Mambaforge\n",
    "!curl -L -O https://github.com/conda-forge/miniforge/releases/latest/download/Mambaforge-$(uname)-$(uname -m).sh\n",
    "!bash Mambaforge-$(uname)-$(uname -m).sh -b -u -p $HOME/mambaforge\n",
    "\n",
    "#Trimmomatic, Fastqc, bowtie, samtools, rsem\n",
    "!$HOME/mambaforge/bin/mamba install -y -c conda-forge -c bioconda trimmomatic fastqc bowtie samtools rsem"
   ]
  },
  {
   "cell_type": "markdown",
   "id": "ab298b90-0f0f-468e-adf3-d6c74a8f9614",
   "metadata": {},
   "source": [
    "# Download Files\n",
    "\n",
    "We need to create the folders we will use, as well as download the fastq and reference files that will be used for analysis. "
   ]
  },
  {
   "cell_type": "code",
   "execution_count": null,
   "id": "812b935a-5e24-4d4d-8a86-245a17b1fb2e",
   "metadata": {},
   "outputs": [],
   "source": [
    "## Create Directories to hold files\n",
    "!mkdir -p data\n",
    "!mkdir -p data/raw_fastq\n",
    "!mkdir -p data/trimmed\n",
    "!mkdir -p data/fastqc\n",
    "!mkdir -p data/reference\n",
    "!mkdir -p data/rsem\n",
    "\n",
    "## Download Fastq files\n",
    "\n",
    "# Download run SA161911\n",
    "!gsutil cp gs://hon_350/fastq/SE8159_SA161911_S2_L007_R1_001.fastq.gz data/raw_fastq/SA161911_1.fastq.gz\n",
    "!gsutil cp gs://hon_350/fastq/SE8159_SA161911_S2_L007_R2_001.fastq.gz data/raw_fastq/SA161911_2.fastq.gz\n",
    "# Download run SA161915\n",
    "!gsutil cp gs://hon_350/fastq/SE8159_SA161915_S6_L007_R1_001.fastq.gz data/raw_fastq/SA161915_1.fastq.gz\n",
    "!gsutil cp gs://hon_350/fastq/SE8159_SA161915_S6_L007_R2_001.fastq.gz data/raw_fastq/SA161915_2.fastq.gz\n",
    "\n",
    "## Adapter sequences file for trimmomatic\n",
    "!gsutil cp gs://hon_350/reference/TruSeq3-PE.fa data/reference/TruSeq3-PE.fa\n",
    "\n",
    "## (Optional) Download reference files for building transcriptome index\n",
    "#!gsutil cp gs://hon_350/referebce/GRCz11.dna_sm.toplevel.fa.gz data/reference/GRCz11.dna_sm.toplevel.fa.gz\n",
    "#!gsutil cp gs://hon_350/referebce/GRCz11.108.gtf.gz data/reference/GRCz11.108.gtf.gz\n",
    "#!echo 'unzipping...'\n",
    "#!gzip -d data/reference/GRCz11.dna_sm.toplevel.fa.gz\n",
    "#!gzip -d data/reference/GRCz11.107.gtf.gz\n",
    "#!echo 'finished unzipping.'\n",
    "\n",
    "## Download and unzip premade index files\n",
    "!gsutil cp gs://hon_350/reference/rsem_grcz11.108_transcriptome.tar.gz data/reference/rsem_grcz11.108_transcriptome.tar.gz\n",
    "!echo 'unzipping...'\n",
    "!tar -xzvf data/reference/rsem_grcz11.108_transcriptome.tar.gz\n",
    "!rm data/reference/rsem_grcz11.108_transcriptome.tar.gz\n",
    "!echo 'finished unzipping.'"
   ]
  },
  {
   "cell_type": "markdown",
   "id": "c0767b47-81e0-4b68-825f-ee1795b3c6e8",
   "metadata": {},
   "source": [
    "# Trimmomatic\n",
    "\n",
    "Trimmomatic is used to trim fastq files to remove adapters, and low quality score bases in reads."
   ]
  },
  {
   "cell_type": "code",
   "execution_count": null,
   "id": "e820804a-577d-4d87-ba7c-c255ed0d173d",
   "metadata": {},
   "outputs": [],
   "source": [
    "# Run trimmomatic\n",
    "\n",
    "# on SA161911\n",
    "!trimmomatic PE -threads 2 data/raw_fastq/SA161911_1.fastq.gz data/raw_fastq/SA161911_2.fastq.gz data/trimmed/SA161911_1_trimmed.fastq.gz data/trimmed/SA161911_1_orphans.fastq.gz data/trimmed/SA161911_2_trimmed.fastq.gz data/trimmed/SA161911_2_orphans.fastq.gz ILLUMINACLIP:data/reference/TruSeq3-PE.fa:2:30:10:2:keepBothReads LEADING:3 TRAILING:3 MINLEN:36\n",
    "# on SA161915\n",
    "!trimmomatic PE -threads 2 data/raw_fastq/SA161915_1.fastq.gz data/raw_fastq/SA161915_2.fastq.gz data/trimmed/SA161915_1_trimmed.fastq.gz data/trimmed/SA161915_1_orphans.fastq.gz data/trimmed/SA161915_2_trimmed.fastq.gz data/trimmed/SA161915_2_orphans.fastq.gz ILLUMINACLIP:data/reference/TruSeq3-PE.fa:2:30:10:2:keepBothReads LEADING:3 TRAILING:3 MINLEN:36\n"
   ]
  },
  {
   "cell_type": "markdown",
   "id": "6bbf0b43-8d1c-4bfb-9d83-10312a474b51",
   "metadata": {},
   "source": [
    "# Fastqc\n",
    "\n",
    "Fastqc is a tool to inspect the quality of reads in fastq files."
   ]
  },
  {
   "cell_type": "code",
   "execution_count": null,
   "id": "c59d25e6-3365-41ea-9b1f-3fc913661d23",
   "metadata": {},
   "outputs": [],
   "source": [
    "# Run fastqc\n",
    "\n",
    "# on SA161911\n",
    "!fastqc -o data/fastqc data/trimmed/SA161911_1_trimmed.fastq.gz\n",
    "# on SA161915\n",
    "!fastqc -o data/fastqc data/trimmed/SA161915_1_trimmed.fastq.gz\n",
    "\n",
    "\n",
    "# Example of in-window display of fastqc output file (SA161911).\n",
    "from IPython.display import IFrame\n",
    "IFrame(src='./data/fastqc/SA161911_1_trimmed_fastqc.html', width=800, height=600)"
   ]
  },
  {
   "cell_type": "markdown",
   "id": "54262a2d-ec30-4ad9-8f49-63db2c41e54d",
   "metadata": {},
   "source": [
    "# Rsem\n",
    "\n",
    "In order to map reads to genes, and quantify read counts, an index must be created. In this case, we are using rsem for index creation and quantifying read counts."
   ]
  },
  {
   "cell_type": "code",
   "execution_count": null,
   "id": "0953c9f6-083d-4b71-add6-fbdb27c6d91f",
   "metadata": {
    "scrolled": true,
    "tags": []
   },
   "outputs": [],
   "source": [
    "## Build transcriptome reference\n",
    "\n",
    "#!rsem-prepare-reference --gtf data/reference/GRCz11.108.gtf --bowtie -p 8 data/reference/GRCz11.dna_sm.toplevel.fa data/reference/zebrafish_rsem/GRCz11_108 \n"
   ]
  },
  {
   "cell_type": "code",
   "execution_count": null,
   "id": "92fdcd8a-676d-4347-871e-1620e524cf5e",
   "metadata": {
    "scrolled": true,
    "tags": []
   },
   "outputs": [],
   "source": [
    "# Calculate read counts\n",
    "\n",
    "# on SA161911\n",
    "!rsem-calculate-expression -p 8 --strandedness reverse data/trimmed/SA161911_1_trimmed.fastq.gz data/reference/zebrafish_rsem/GRCz11_108 data/rsem/SA161911\n",
    "# on SA161915\n",
    "!rsem-calculate-expression -p 8 --strandedness reverse data/trimmed/SA161915_1_trimmed.fastq.gz data/reference/zebrafish_rsem/GRCz11_108 data/rsem/SA161915\n"
   ]
  },
  {
   "cell_type": "markdown",
   "id": "d0ad4d94-ce11-4116-ac76-2a17309516d3",
   "metadata": {},
   "source": [
    "# Read count file outputs\n",
    "\n",
    "Rsem outputs readcount files (SA####.genes.results) which are tables that contain various information, including readcounts in transcripts per kilobase million (TPM) and fragments per kilobase of exon per million mapped fragments (FPKM) format."
   ]
  },
  {
   "cell_type": "code",
   "execution_count": null,
   "id": "5e5b7af5-9a20-4bf7-a42b-a75c0a9918f8",
   "metadata": {},
   "outputs": [],
   "source": [
    "# Example of read count table output\n",
    "# (sorted by top 10 expressed genes)\n",
    "\n",
    "## on SA161911\n",
    "!head -1 data/rsem/SA161911.genes.results | column -t\n",
    "!sort -nrk 6 data/rsem/SA161911.genes.results |  column -t | head -10  | column -t\n"
   ]
  },
  {
   "cell_type": "code",
   "execution_count": null,
   "id": "73231be5-8de1-401e-94f2-c4a2f6291776",
   "metadata": {},
   "outputs": [],
   "source": [
    "## on SA161915\n",
    "!head -1 data/rsem/SA161915.genes.results | column -t\n",
    "!sort -nrk 6 data/rsem/SA161915.genes.results |  column -t | head -10  | column -t\n"
   ]
  },
  {
   "cell_type": "markdown",
   "id": "c035c038-5fdd-4b3b-ac3c-023c3db4601c",
   "metadata": {},
   "source": [
    "# Upload files to bucket\n",
    "In order for the files to be shared and downloaded, we need to upload them to the google bucket."
   ]
  },
  {
   "cell_type": "code",
   "execution_count": null,
   "id": "420d72a2-4e13-434d-8f48-5e3f64fd618a",
   "metadata": {},
   "outputs": [],
   "source": [
    "## Upload to bucket\n",
    "\n",
    "## upload SA161911\n",
    "!gsutil cp data/rsem/SA161911.genes.results gs://hon_350/results\n",
    "## upload SA161915\n",
    "!gsutil cp data/rsem/SA161915.genes.results gs://hon_350/results\n"
   ]
  },
  {
   "cell_type": "markdown",
   "id": "b8bd223d-6b14-45cd-84cd-c1deb9164b1b",
   "metadata": {},
   "source": [
    "# (Extra) Some examples of using variables and loops for easier batch processing\n",
    "\n",
    "Bariables can be used to make writing commands easier. For example, we run trimmomatic multiple times, but our inputs are very similar, following the pattern of SA#####_1 / SA#####_2.\n",
    "\n",
    "So for instance, we could instead have our commands reference a 'variable', instead of a specific run id. That way, we can just change the variable, instead of having to retype the entire command.\n",
    "\n",
    "We can just copy and paste the command, but change the variable, to run trimmomatic on different runs."
   ]
  },
  {
   "cell_type": "code",
   "execution_count": null,
   "id": "5d139e96-f3be-4aae-9289-a06d5629ca90",
   "metadata": {},
   "outputs": [],
   "source": [
    "# Example of trimmomatic referencing a variable instead of a specific run id\n",
    "fastq_id='SA161911'\n",
    "!trimmomatic PE -threads 2 data/raw_fastq/{fastq_id}_1.fastq.gz data/raw_fastq/{fastq_id}_2.fastq.gz data/trimmed/{fastq_id}_1_trimmed.fastq.gz data/trimmed/{fastq_id}_1_orphans.fastq.gz data/trimmed/{fastq_id}_2_trimmed.fastq.gz data/trimmed/{fastq_id}_2_orphans.fastq.gz ILLUMINACLIP:data/reference/TruSeq3-PE.fa:2:30:10:2:keepBothReads LEADING:3 TRAILING:3 MINLEN:36\n",
    "\n",
    "# The same command will now run on SA161915, because the referenced variable has been changed.\n",
    "fastq_id='SA161915'\n",
    "!trimmomatic PE -threads 2 data/raw_fastq/{fastq_id}_1.fastq.gz data/raw_fastq/{fastq_id}_2.fastq.gz data/trimmed/{fastq_id}_1_trimmed.fastq.gz data/trimmed/{fastq_id}_1_orphans.fastq.gz data/trimmed/{fastq_id}_2_trimmed.fastq.gz data/trimmed/{fastq_id}_2_orphans.fastq.gz ILLUMINACLIP:data/reference/TruSeq3-PE.fa:2:30:10:2:keepBothReads LEADING:3 TRAILING:3 MINLEN:36\n"
   ]
  },
  {
   "cell_type": "markdown",
   "id": "e553923f-5ce0-4272-afaa-c84eb30db68a",
   "metadata": {},
   "source": [
    "Using variables combined with loops, pipes, and lists can make writing commands even easier.\n",
    "\n",
    "We can 'pipe' a list into a command to have it run over the entire list."
   ]
  },
  {
   "cell_type": "code",
   "execution_count": null,
   "id": "3d1dfafc-7626-4e56-9635-cfd4e2f5bb47",
   "metadata": {},
   "outputs": [],
   "source": [
    "# First we need a list of run ids.\n",
    "\n",
    "# you can create this however you like.\n",
    "# This might be easier in R, python, or other languages.\n",
    "# for the sake of the example, I'll create one using command line\n",
    "# (below is a pretty poor way of doing it, \n",
    "# but I am bad at regular expressions)\n",
    "!ls data/raw_fastq/*_1.fastq.gz | paste | sed 's|data/raw_fastq/||g' | sed 's|_1.fastq.gz||g' | paste > run_ids.txt\n",
    "!cat run_ids.txt"
   ]
  },
  {
   "cell_type": "code",
   "execution_count": null,
   "id": "8d071bdf-c4c6-4ad8-88bf-fff00e5f7013",
   "metadata": {},
   "outputs": [],
   "source": [
    "# Now that list can be piped into a bash command\n",
    "# similar to how variables were used above\n",
    "# where here {} is replaced by each line in the list.\n",
    "# this command will iterate trimmomatic on the entire above list\n",
    "\n",
    "!cat run_ids.txt |  xargs -I {} trimmomatic PE -threads 2 data/raw_fastq/{}_1.fastq.gz data/raw_fastq/{}_2.fastq.gz data/trimmed/{}_1_trimmed.fastq.gz data/trimmed/{}_1_orphans.fastq.gz data/trimmed/{}_2_trimmed.fastq.gz data/trimmed/{}_2_orphans.fastq.gz ILLUMINACLIP:data/reference/TruSeq3-PE.fa:2:30:10:2:keepBothReads LEADING:3 TRAILING:3 MINLEN:36\n"
   ]
  },
  {
   "cell_type": "code",
   "execution_count": null,
   "id": "14d75c98-853e-49c6-808b-446ba0352cb9",
   "metadata": {},
   "outputs": [],
   "source": [
    "scratch"
   ]
  },
  {
   "cell_type": "code",
   "execution_count": 107,
   "id": "af787c60-375b-4df3-9ffa-1d2b9cddc43c",
   "metadata": {},
   "outputs": [
    {
     "name": "stdout",
     "output_type": "stream",
     "text": [
      "Tue Dec 27 22:30:35 UTC 2022\n"
     ]
    }
   ],
   "source": [
    "!date"
   ]
  },
  {
   "cell_type": "code",
   "execution_count": null,
   "id": "af73e2fd-17c8-4d8d-9415-a31ab33f9e78",
   "metadata": {},
   "outputs": [],
   "source": [
    "# Run trimmomatic\n",
    "!date\n",
    "# on SA161911\n",
    "!trimmomatic PE -threads 4 data/raw_fastq/SA161911_1.fastq.gz data/raw_fastq/SA161911_2.fastq.gz data/trimmed/SA161911_1_trimmed.fastq.gz data/trimmed/SA161911_1_orphans.fastq.gz data/trimmed/SA161911_2_trimmed.fastq.gz data/trimmed/SA161911_2_orphans.fastq.gz ILLUMINACLIP:data/reference/TruSeq3-PE.fa:2:30:10:2:keepBothReads LEADING:3 TRAILING:3 MINLEN:36\n",
    "# on SA161915\n",
    "#!trimmomatic PE -threads 2 data/raw_fastq/SA161915_1.fastq.gz data/raw_fastq/SA161915_2.fastq.gz data/trimmed/SA161915_1_trimmed.fastq.gz data/trimmed/SA161915_1_orphans.fastq.gz data/trimmed/SA161915_2_trimmed.fastq.gz data/trimmed/SA161915_2_orphans.fastq.gz ILLUMINACLIP:data/reference/TruSeq3-PE.fa:2:30:10:2:keepBothReads LEADING:3 TRAILING:3 MINLEN:36\n",
    "!date"
   ]
  }
 ],
 "metadata": {
  "environment": {
   "kernel": "python3",
   "name": "r-cpu.4-2.m102",
   "type": "gcloud",
   "uri": "gcr.io/deeplearning-platform-release/r-cpu.4-2:m102"
  },
  "kernelspec": {
   "display_name": "Python 3",
   "language": "python",
   "name": "python3"
  },
  "language_info": {
   "codemirror_mode": {
    "name": "ipython",
    "version": 3
   },
   "file_extension": ".py",
   "mimetype": "text/x-python",
   "name": "python",
   "nbconvert_exporter": "python",
   "pygments_lexer": "ipython3",
   "version": "3.7.12"
  }
 },
 "nbformat": 4,
 "nbformat_minor": 5
}
